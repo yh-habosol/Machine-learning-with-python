{
 "cells": [
  {
   "cell_type": "code",
   "execution_count": 5,
   "metadata": {},
   "outputs": [],
   "source": [
    "import mglearn\n",
    "import pandas as pd\n",
    "import numpy as np\n",
    "import matplotlib.pyplot as plt\n",
    "from IPython.display import display\n",
    "\n"
   ]
  },
  {
   "cell_type": "code",
   "execution_count": 6,
   "metadata": {},
   "outputs": [
    {
     "name": "stdout",
     "output_type": "stream",
     "text": [
      "w[0]: 0.393906  b: -0.031804\n"
     ]
    },
    {
     "data": {
      "image/png": "[encoded data removed]",
      "text/plain": [
       "<Figure size 576x576 with 1 Axes>"
      ]
     },
     "metadata": {
      "needs_background": "light"
     },
     "output_type": "display_data"
    }
   ],
   "source": [
    "import warnings\n",
    "warnings.filterwarnings(action='ignore')\n",
    "\n",
    "\n",
    "##회귀의 선형 모델을 위한 일반화된 예측 함수는 다음과 같습니다.\n",
    "##y = w1x1 + w2x2 + ... + wnxn + b\n",
    "##이때 x1 ~ xn은 하나의 데이터 포인트에 대한 특성을 나타냅니다. w,b,는 모델이 학습할 파라미터입니다.\n",
    "##y값은 모델이 만들어낸 예측 값입니다.\n",
    "\n",
    "#특성이 하니인 경우, 식은 다음과 같습니다.\n",
    "#y = wx+b\n",
    "#wave데이터셋으로 w,b를 직선이 되도록 학습시키면 아래와 같습니다.\n",
    "\n",
    "\n",
    "\n",
    "mglearn.plots.plot_linear_regression_wave()"
   ]
  },
  {
   "cell_type": "code",
   "execution_count": 17,
   "metadata": {},
   "outputs": [],
   "source": [
    "'''\n",
    "회귀에서 가장 인기있는 모델들을 소개하겠습니다.\n",
    "첫번째로 선형 회귀, 또는 최소제곱법입니다. \n",
    "선형회귀는 예측과 훈련 세트에 있는 타깃 y 사이의 평균제곱오차를 최소화하는 파라미터w,b를 찾는 것 입니다. \n",
    "평균제곱오차는 예측값-타깃값의 제곱의 합의 평균입니다.\n",
    "'''\n",
    "\n",
    "##선형 모델 만드는 코드\n",
    "from sklearn.linear_model import LinearRegression\n",
    "from sklearn.model_selection import train_test_split\n",
    "\n",
    "X,y = mglearn.datasets.make_wave(n_samples = 60)\n",
    "X_train, X_test, y_train, y_test = train_test_split(X,y, random_state=42)\n",
    "\n",
    "lr = LinearRegression().fit(X_train, y_train)\n"
   ]
  },
  {
   "cell_type": "code",
   "execution_count": 18,
   "metadata": {},
   "outputs": [
    {
     "name": "stdout",
     "output_type": "stream",
     "text": [
      "[0.39390555]\n",
      "-0.031804343026759746\n"
     ]
    }
   ],
   "source": [
    "##w값은 lr 객체의 coef_속성에 저장되어 있고, b값은 intercept_속성에 저장되어 있습니다.\n",
    "print(lr.coef_)\n",
    "print(lr.intercept_)"
   ]
  },
  {
   "cell_type": "code",
   "execution_count": 22,
   "metadata": {},
   "outputs": [
    {
     "name": "stdout",
     "output_type": "stream",
     "text": [
      "0.67\n",
      "0.66\n"
     ]
    }
   ],
   "source": [
    "##훈련 데이터와 테스트 데이터의 성능\n",
    "\n",
    "print(\"{:.2f}\".format(lr.score(X_train, y_train)))\n",
    "print(\"{:.2f}\".format(lr.score(X_test, y_test)))"
   ]
  },
  {
   "cell_type": "code",
   "execution_count": null,
   "metadata": {},
   "outputs": [],
   "source": [
    "'''\n",
    "훈련 세트와 테스트 세트의 점수가 매우 비슷한 것으로 보아 과대적합이 아닌, 과소적합 상태임을 알 수 있습니다. \n",
    "wave같은 1차원 데이터셋은 모델이 단순하므로 과대적합을 고려할 필요가 없지만, 고차원 데이터셋에서는 과대적합될 가능성이 높습니다.\n",
    "Boston주택가격 데이터셋을 통해 이를 확인해보도록 하겠습니다.\n",
    "'''"
   ]
  },
  {
   "cell_type": "code",
   "execution_count": 24,
   "metadata": {},
   "outputs": [],
   "source": [
    "X,y = mglearn.datasets.load_extended_boston()\n",
    "\n",
    "X_train, X_test, y_train, y_test = train_test_split(X,y, random_state = 0)\n",
    "lr = LinearRegression().fit(X_train, y_train)"
   ]
  },
  {
   "cell_type": "code",
   "execution_count": 25,
   "metadata": {},
   "outputs": [
    {
     "name": "stdout",
     "output_type": "stream",
     "text": [
      "0.95\n",
      "0.61\n"
     ]
    }
   ],
   "source": [
    "print(\"{:.2f}\".format(lr.score(X_train, y_train)))\n",
    "print(\"{:.2f}\".format(lr.score(X_test, y_test)))"
   ]
  },
  {
   "cell_type": "code",
   "execution_count": null,
   "metadata": {},
   "outputs": [],
   "source": [
    "'''\n",
    "훈련 세트와 테스트 세트 간의 성능차를 봐서 모델이 과대적합되었다는 것을 알 수 있습니다. 따라서 이러한 복잡도를 제어할 수 있는\n",
    "모델을 사용해야 하고, 가장 널리 쓰이는 모델은 리지회귀입니다.\n",
    "'''"
   ]
  },
  {
   "cell_type": "code",
   "execution_count": null,
   "metadata": {},
   "outputs": [],
   "source": [
    "'''\n",
    "리지 회귀에서의 가중치는 훈련 데이터를 잘 예측하기 위해서 뿐만이 아니라 추가 제약 조건을 만족시키기 위한 목적도 있습니다.\n",
    "가중치의 절대값을 가능한 한 작게, 즉 w의 모든 원소가 0에 가깝게 되길 원합니다. \n",
    "이는 모든 특성이 출력에 주는 영향을 최소한으로 만느는데 이런 제약을 규제(regularizaion)이라고 합니다. \n",
    "'''"
   ]
  },
  {
   "cell_type": "code",
   "execution_count": 26,
   "metadata": {},
   "outputs": [
    {
     "name": "stdout",
     "output_type": "stream",
     "text": [
      "0.89\n",
      "0.75\n"
     ]
    }
   ],
   "source": [
    "from sklearn.linear_model import Ridge\n",
    "\n",
    "ridge = Ridge().fit(X_train, y_train)\n",
    "print(\"{:.2f}\".format(ridge.score(X_train,y_train)))\n",
    "print(\"{:.2f}\".format(ridge.score(X_test,y_test)))"
   ]
  },
  {
   "cell_type": "code",
   "execution_count": null,
   "metadata": {},
   "outputs": [],
   "source": []
  }
 ],
 "metadata": {
  "kernelspec": {
   "display_name": "Python 3",
   "language": "python",
   "name": "python3"
  },
  "language_info": {
   "codemirror_mode": {
    "name": "ipython",
    "version": 3
   },
   "file_extension": ".py",
   "mimetype": "text/x-python",
   "name": "python",
   "nbconvert_exporter": "python",
   "pygments_lexer": "ipython3",
   "version": "3.7.7"
  }
 },
 "nbformat": 4,
 "nbformat_minor": 4
}
